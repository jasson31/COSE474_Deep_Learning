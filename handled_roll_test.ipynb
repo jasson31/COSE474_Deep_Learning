{
 "cells": [
  {
   "cell_type": "code",
   "execution_count": 1,
   "metadata": {},
   "outputs": [
    {
     "data": {
      "text/plain": [
       "True"
      ]
     },
     "execution_count": 1,
     "metadata": {},
     "output_type": "execute_result"
    }
   ],
   "source": [
    "import math\n",
    "import random\n",
    "import numpy as np\n",
    "import matplotlib\n",
    "import matplotlib.pyplot as plt\n",
    "from collections import namedtuple\n",
    "from itertools import count\n",
    "from PIL import Image\n",
    "import IPython as ip\n",
    "\n",
    "import torch\n",
    "import torch.nn as nn\n",
    "import torch.optim as optim\n",
    "import torch.nn.functional as F\n",
    "import torchvision.transforms as T\n",
    "import yacht_main as yacht\n",
    "from yacht_test import create_train_set\n",
    "\n",
    "device = torch.device(\"cuda\" if torch.cuda.is_available() else \"cpu\")\n",
    "#device = torch.device(\"cpu\")\n",
    "torch.cuda.is_available()"
   ]
  },
  {
   "cell_type": "code",
   "execution_count": 2,
   "metadata": {},
   "outputs": [],
   "source": [
    "INPUT_SIZE = 44\n",
    "OUTPUT_SIZE = 43\n",
    "\n",
    "class DQN(nn.Module):\n",
    "\n",
    "    def __init__(self, input_size, output_size):\n",
    "        super(DQN, self).__init__()\n",
    "        self.fc1 = nn.Linear(input_size, 300)\n",
    "        self.fc2 = nn.Linear(300, 300)\n",
    "        self.fc3 = nn.Linear(300, 50)\n",
    "        #self.fc4 = nn.Linear(100, 100)\n",
    "        #self.fc5 = nn.Linear(100, 100)\n",
    "        self.fc6 = nn.Linear(50, output_size)\n",
    "        \n",
    "        \n",
    "    def forward(self, x):\n",
    "        x = torch.sigmoid(self.fc1(x))\n",
    "        x = torch.sigmoid(self.fc2(x))\n",
    "        x = torch.sigmoid(self.fc3(x))\n",
    "        #x = F.relu(self.fc4(x))\n",
    "        #x = F.relu(self.fc5(x))\n",
    "\n",
    "        x = self.fc6(x)\n",
    "\n",
    "        return x\n",
    "\n",
    "    \n",
    "policy_net = DQN(INPUT_SIZE,OUTPUT_SIZE).to(device)"
   ]
  },
  {
   "cell_type": "code",
   "execution_count": 3,
   "metadata": {},
   "outputs": [],
   "source": [
    "EPS_START = 0.9\n",
    "EPS_END = 0.05\n",
    "EPS_DECAY = 500\n",
    "\n",
    "steps_done = 0\n",
    "\n",
    "def select_action(state, avail):\n",
    "    global steps_done\n",
    "    sample = random.random()\n",
    "    eps_threshold = EPS_END + (EPS_START - EPS_END) * \\\n",
    "        math.exp(-1. * steps_done / EPS_DECAY)\n",
    "    steps_done += 1\n",
    "    if sample > eps_threshold:\n",
    "        with torch.no_grad():\n",
    "            # t.max (1)은 각 행의 가장 큰 열 값을 반환합니다.\n",
    "            # 최대 결과의 두번째 열은 최대 요소의 주소값이므로,\n",
    "            # 기대 보상이 더 큰 행동을 선택할 수 있습니다.\n",
    "            return (policy_net(state) * avail).max(1)[1].view(1, 1)\n",
    "    else:\n",
    "        return torch.tensor([[random.randrange(OUTPUT_SIZE)]], device=device, dtype=torch.long)"
   ]
  },
  {
   "cell_type": "code",
   "execution_count": 72,
   "metadata": {},
   "outputs": [
    {
     "name": "stdout",
     "output_type": "stream",
     "text": [
      "roll_count -9\n",
      "roll_action_num: 0\n",
      "roll_action_num: 0\n",
      "roll_action_num: 0\n",
      "roll_action_num: 0\n",
      "roll_action_num: 0\n"
     ]
    },
    {
     "data": {
      "text/plain": [
       "[3, 6, 2, 2, 2]"
      ]
     },
     "execution_count": 72,
     "metadata": {},
     "output_type": "execute_result"
    }
   ],
   "source": [
    "yacht.roll_dice(0)"
   ]
  },
  {
   "cell_type": "code",
   "execution_count": 95,
   "metadata": {},
   "outputs": [
    {
     "data": {
      "text/plain": [
       "[3]"
      ]
     },
     "execution_count": 95,
     "metadata": {},
     "output_type": "execute_result"
    }
   ],
   "source": [
    "handled_weight = [0.2, 0.2, 0.2, 0.2, 0.1, 0.1]\n",
    "random.choices(population= range(6), weights = handled_weight)"
   ]
  },
  {
   "cell_type": "code",
   "execution_count": 99,
   "metadata": {},
   "outputs": [
    {
     "data": {
      "text/plain": [
       "[0.1, 0.2, 0.2, 0.1, 0.2, 0.2]"
      ]
     },
     "execution_count": 99,
     "metadata": {},
     "output_type": "execute_result"
    }
   ],
   "source": [
    "# straight_3, straight_4, straight_5, \"fulh\", \"tri\", \"four\", \"yacht\"\n",
    "handled_weight = [0.4, 0.2, 0.2, 0.1, 0.1]\n",
    "category = random.choices(population=range(5), weights=handled_weight)\n",
    "# straight_3\n",
    "if category == 0:\n",
    "    bot = randint(1, 4)\n",
    "    seq = random.shuffle(range(5))\n",
    "    dice_status[seq[0]] = bot\n",
    "    dice_status[seq[1]] = bot + 1\n",
    "    dice_status[seq[2]] = bot + 2\n",
    "    remain_value = (range(6) + 1).remove(bot-1)\n",
    "    remain_value.remove(bot + 3)\n",
    "    dice_status[seq[3]] = random.choice(remain_value)\n",
    "    dice_status[seq[4]] = random.choice(remain_value)"
   ]
  },
  {
   "cell_type": "code",
   "execution_count": 114,
   "metadata": {},
   "outputs": [],
   "source": [
    "dice_status = [random.randint(1, 6), random.randint(1, 6), random.randint(1, 6), random.randint(1, 6), random.randint(1, 6)]"
   ]
  },
  {
   "cell_type": "code",
   "execution_count": 145,
   "metadata": {},
   "outputs": [
    {
     "data": {
      "text/plain": [
       "[2, 6, 6, 4, 3]"
      ]
     },
     "execution_count": 145,
     "metadata": {},
     "output_type": "execute_result"
    }
   ],
   "source": [
    "bot = random.randint(1, 4)\n",
    "seq = random.sample(list(range(5)), 5)\n",
    "for i in range(3):\n",
    "    dice_status[seq[i]] = bot + i\n",
    "remain_value = list(range(1, 7))\n",
    "if bot - 1 > 0:\n",
    "    remain_value.remove(bot -1)\n",
    "if bot + 3 < 7:\n",
    "    remain_value.remove(bot + 3)\n",
    "dice_status[seq[3]] = random.choice(remain_value)\n",
    "dice_status[seq[4]] = random.choice(remain_value)"
   ]
  },
  {
   "cell_type": "code",
   "execution_count": 151,
   "metadata": {},
   "outputs": [
    {
     "data": {
      "text/plain": [
       "[3, 1, 2, 3, 4]"
      ]
     },
     "execution_count": 151,
     "metadata": {},
     "output_type": "execute_result"
    }
   ],
   "source": [
    "seq = random.sample(list(range(5)), 5)\n",
    "bot = random.choice([1,3])\n",
    "for i in range(4):\n",
    "    dice_status[seq[i]] = bot + i\n",
    "remain_value = list(range(1,7))\n",
    "if bot == 1:\n",
    "    remain_value.remove(5)\n",
    "else:\n",
    "    remain_value.remove(2)\n",
    "dice_status[seq[4]] = random.choice(remain_value)\n",
    "dice_status"
   ]
  },
  {
   "cell_type": "code",
   "execution_count": 159,
   "metadata": {},
   "outputs": [
    {
     "data": {
      "text/plain": [
       "[3, 6, 5, 4, 2]"
      ]
     },
     "execution_count": 159,
     "metadata": {},
     "output_type": "execute_result"
    }
   ],
   "source": [
    "seq = random.sample(list(range(5)), 5)\n",
    "bot = random.randint(1,2)\n",
    "for i in range(5):\n",
    "    dice_status[seq[i]] = bot + i\n",
    "dice_status"
   ]
  },
  {
   "cell_type": "code",
   "execution_count": 177,
   "metadata": {},
   "outputs": [
    {
     "data": {
      "text/plain": [
       "[3, 1, 4, 4, 3]"
      ]
     },
     "execution_count": 177,
     "metadata": {},
     "output_type": "execute_result"
    }
   ],
   "source": [
    "seq = random.sample(list(range(5)), 5)\n",
    "fh_values = random.sample(list(range(1, 7)), k=3)\n",
    "for i in range(4):\n",
    "    dice_status[seq[i]] = fh_values[i//2]\n",
    "dice_status[seq[4]] = fh_values[2]\n",
    "dice_status"
   ]
  },
  {
   "cell_type": "code",
   "execution_count": 188,
   "metadata": {},
   "outputs": [
    {
     "data": {
      "text/plain": [
       "[2, 5, 2, 2, 5]"
      ]
     },
     "execution_count": 188,
     "metadata": {},
     "output_type": "execute_result"
    }
   ],
   "source": [
    "seq = random.sample(list(range(5)), 5)\n",
    "fh_values = random.sample(list(range(1, 7)), k=2)\n",
    "for i in range(4):\n",
    "    dice_status[seq[i]] = fh_values[i//2]\n",
    "dice_status[seq[4]] = fh_values[1]\n",
    "dice_status"
   ]
  },
  {
   "cell_type": "code",
   "execution_count": 194,
   "metadata": {},
   "outputs": [
    {
     "data": {
      "text/plain": [
       "[1, 1, 1, 3, 2]"
      ]
     },
     "execution_count": 194,
     "metadata": {},
     "output_type": "execute_result"
    }
   ],
   "source": [
    "seq = random.sample(list(range(5)), 5)\n",
    "tri_values = random.sample(list(range(1, 7)), k=3)\n",
    "for i in range(3):\n",
    "    dice_status[seq[i]] = tri_values[0]\n",
    "dice_status[seq[3]] = tri_values[1]\n",
    "dice_status[seq[4]] = tri_values[2]\n",
    "dice_status"
   ]
  },
  {
   "cell_type": "code",
   "execution_count": 198,
   "metadata": {},
   "outputs": [
    {
     "data": {
      "text/plain": [
       "[5, 4, 4, 4, 4]"
      ]
     },
     "execution_count": 198,
     "metadata": {},
     "output_type": "execute_result"
    }
   ],
   "source": [
    "seq = random.sample(list(range(5)), 5)\n",
    "four_values = random.sample(list(range(1, 7)), k=2)\n",
    "for i in range(5):\n",
    "    dice_status[seq[i]] = four_values[i//4]\n",
    "dice_status"
   ]
  },
  {
   "cell_type": "code",
   "execution_count": 202,
   "metadata": {},
   "outputs": [
    {
     "data": {
      "text/plain": [
       "[5, 5, 5, 5, 5]"
      ]
     },
     "execution_count": 202,
     "metadata": {},
     "output_type": "execute_result"
    }
   ],
   "source": [
    "value = random.randint(1, 6)\n",
    "for i in range(5):\n",
    "    dice_status[i] = value\n",
    "dice_status"
   ]
  },
  {
   "cell_type": "code",
   "execution_count": 262,
   "metadata": {},
   "outputs": [],
   "source": [
    "def handled_roll():\n",
    "        # straight_3, straight_4, straight_5, 212, fh, 311, 41, yacht\n",
    "        handled_weight = [5, 3, 2, 3, 2, 4, 2, 1]\n",
    "        category = random.choices(population=range(len(handled_weight)), weights=handled_weight)[0]\n",
    "        print(category)\n",
    "        # straight_3\n",
    "        if category == 0:\n",
    "            bot = random.randint(1, 4)\n",
    "            seq = random.sample(list(range(5)), 5)\n",
    "            for i in range(3):\n",
    "                dice_status[seq[i]] = bot + i\n",
    "            remain_value = list(range(1, 7))\n",
    "            if bot - 1 > 0:\n",
    "                remain_value.remove(bot -1)\n",
    "            if bot + 3 < 7:\n",
    "                remain_value.remove(bot + 3)\n",
    "            dice_status[seq[3]] = random.choice(remain_value)\n",
    "            dice_status[seq[4]] = random.choice(remain_value)\n",
    "        # straight_4\n",
    "        elif category == 1:\n",
    "            seq = random.sample(list(range(5)), 5)\n",
    "            bot = random.choice([1,3])\n",
    "            for i in range(4):\n",
    "                dice_status[seq[i]] = bot + i\n",
    "            remain_value = list(range(1,7))\n",
    "            if bot == 1:\n",
    "                remain_value.remove(5)\n",
    "            else:\n",
    "                remain_value.remove(2)\n",
    "            dice_status[seq[4]] = random.choice(remain_value)\n",
    "        # straight_5\n",
    "        elif category == 2:\n",
    "            seq = random.sample(list(range(5)), 5)\n",
    "            bot = random.randint(1,2)\n",
    "            for i in range(5):\n",
    "                dice_status[seq[i]] = bot + i\n",
    "        # fh_212\n",
    "        elif category == 3:\n",
    "            seq = random.sample(list(range(5)), 5)\n",
    "            fh_values = random.sample(list(range(1, 7)), k=3)\n",
    "            for i in range(4):\n",
    "                dice_status[seq[i]] = fh_values[i//2]\n",
    "            dice_status[seq[4]] = fh_values[2]\n",
    "        # fh\n",
    "        elif category == 4:\n",
    "            seq = random.sample(list(range(5)), 5)\n",
    "            fh_values = random.sample(list(range(1, 7)), k=2)\n",
    "            for i in range(4):\n",
    "                dice_status[seq[i]] = fh_values[i//2]\n",
    "            dice_status[seq[4]] = fh_values[1]\n",
    "        # 311\n",
    "        elif category == 5:\n",
    "            seq = random.sample(list(range(5)), 5)\n",
    "            tri_values = random.sample(list(range(1, 7)), k=3)\n",
    "            for i in range(3):\n",
    "                dice_status[seq[i]] = tri_values[0]\n",
    "            dice_status[seq[3]] = tri_values[1]\n",
    "            dice_status[seq[4]] = tri_values[2]\n",
    "        # 41\n",
    "        elif category == 6:\n",
    "            seq = random.sample(list(range(5)), 5)\n",
    "            four_values = random.sample(list(range(1, 7)), k=2)\n",
    "            for i in range(5):\n",
    "                dice_status[seq[i]] = four_values[i//4]\n",
    "        # yacht\n",
    "        elif category == 7:\n",
    "            value = random.randint(1, 6)\n",
    "            for i in range(5):\n",
    "                dice_status[i] = value\n",
    "        return dice_status"
   ]
  },
  {
   "cell_type": "code",
   "execution_count": 269,
   "metadata": {},
   "outputs": [
    {
     "name": "stdout",
     "output_type": "stream",
     "text": [
      "5\n"
     ]
    },
    {
     "data": {
      "text/plain": [
       "[1, 3, 5, 3, 3]"
      ]
     },
     "execution_count": 269,
     "metadata": {},
     "output_type": "execute_result"
    }
   ],
   "source": [
    "handled_roll()"
   ]
  },
  {
   "cell_type": "code",
   "execution_count": null,
   "metadata": {},
   "outputs": [],
   "source": []
  }
 ],
 "metadata": {
  "kernelspec": {
   "display_name": "Python 3",
   "language": "python",
   "name": "python3"
  },
  "language_info": {
   "codemirror_mode": {
    "name": "ipython",
    "version": 3
   },
   "file_extension": ".py",
   "mimetype": "text/x-python",
   "name": "python",
   "nbconvert_exporter": "python",
   "pygments_lexer": "ipython3",
   "version": "3.6.12"
  }
 },
 "nbformat": 4,
 "nbformat_minor": 4
}
