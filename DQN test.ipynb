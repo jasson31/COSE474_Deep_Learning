{
 "cells": [
  {
   "cell_type": "code",
   "execution_count": 1,
   "metadata": {},
   "outputs": [
    {
     "name": "stdout",
     "output_type": "stream",
     "text": [
      "      state :  [1, 0, 1, 0, 0, 0, 1, 0, 1, 0, 0, 0, 1, 10, 0, 0, 0, 0, 0, 10, 0, 0, 0, 0, 0, 0, 0, 10, 0, 0, 0, 10, 0, 0, 0, 0, 0, 10, 0, 0, 0, 0, 0, 35]\n",
      "     action :  38\n",
      "  new_state :  [1, 0, 1, 0, 0, 0, 1, 1, 1, 0, 0, 0, 2, 0, 10, 0, 0, 0, 0, 0, 0, 10, 0, 0, 0, 10, 0, 0, 0, 0, 0, 10, 0, 0, 0, 0, 0, 0, 0, 0, 10, 0, 0, 35]\n",
      "step_reward :  4\n",
      "      state :  [1, 0, 0, 0, 1, 0, 1, 0, 1, 0, 0, 1, 1, 0, 0, 0, 10, 0, 0, 0, 0, 0, 0, 0, 10, 0, 0, 0, 10, 0, 0, 0, 0, 0, 10, 0, 0, 0, 0, 0, 10, 0, 0, 0]\n",
      "     action :  38\n",
      "  new_state :  [1, 0, 0, 0, 1, 0, 1, 1, 1, 0, 0, 1, 2, 0, 0, 0, 0, 0, 10, 0, 0, 0, 10, 0, 0, 0, 0, 10, 0, 0, 0, 10, 0, 0, 0, 0, 0, 0, 0, 0, 10, 0, 0, 0]\n",
      "step_reward :  16\n",
      "      state :  [1, 0, 1, 0, 1, 1, 0, 0, 0, 1, 0, 1, 0, 0, 0, 0, 0, 10, 0, 0, 0, 0, 0, 10, 0, 10, 0, 0, 0, 0, 0, 0, 0, 0, 0, 10, 0, 10, 0, 0, 0, 0, 0, 35]\n",
      "     action :  39\n",
      "  new_state :  [1, 0, 1, 0, 1, 1, 0, 0, 1, 1, 0, 1, 2, 10, 0, 0, 0, 0, 0, 0, 10, 0, 0, 0, 0, 0, 0, 0, 0, 10, 0, 0, 0, 0, 0, 10, 0, 0, 10, 0, 0, 0, 0, 35]\n",
      "step_reward :  17\n",
      "      state :  [0, 0, 1, 1, 1, 0, 0, 1, 0, 1, 1, 0, 0, 0, 0, 0, 10, 0, 0, 0, 0, 0, 10, 0, 0, 0, 0, 0, 0, 0, 10, 0, 0, 0, 0, 0, 10, 0, 0, 0, 0, 0, 10, 35]\n",
      "     action :  39\n",
      "  new_state :  [0, 0, 1, 1, 1, 0, 0, 1, 1, 1, 1, 0, 2, 0, 0, 10, 0, 0, 0, 0, 0, 0, 0, 10, 0, 10, 0, 0, 0, 0, 0, 0, 0, 0, 10, 0, 0, 0, 0, 0, 0, 10, 0, 35]\n",
      "step_reward :  26\n",
      "      state :  [0, 0, 1, 0, 1, 1, 1, 1, 1, 0, 1, 1, 2, 0, 10, 0, 0, 0, 0, 0, 0, 10, 0, 0, 0, 0, 0, 0, 10, 0, 0, 0, 0, 10, 0, 0, 0, 0, 0, 0, 0, 10, 0, 0]\n",
      "     action :  40\n",
      "  new_state :  [0, 0, 1, 0, 1, 1, 1, 1, 1, 1, 1, 1, 2, 0, 10, 0, 0, 0, 0, 0, 10, 0, 0, 0, 0, 0, 10, 0, 0, 0, 0, 0, 0, 0, 10, 0, 0, 10, 0, 0, 0, 0, 0, 0]\n",
      "step_reward :  15\n",
      "      state :  [0, 0, 0, 1, 0, 0, 1, 1, 1, 0, 1, 1, 1, 0, 0, 10, 0, 0, 0, 0, 0, 0, 10, 0, 0, 0, 10, 0, 0, 0, 0, 0, 0, 0, 0, 0, 10, 10, 0, 0, 0, 0, 0, 35]\n",
      "     action :  40\n",
      "  new_state :  [0, 0, 0, 1, 0, 0, 1, 1, 1, 1, 1, 1, 2, 0, 0, 0, 0, 0, 10, 0, 0, 0, 0, 0, 10, 0, 0, 0, 0, 0, 10, 0, 0, 0, 10, 0, 0, 10, 0, 0, 0, 0, 0, 35]\n",
      "step_reward :  15\n",
      "      state :  [0, 0, 1, 0, 0, 0, 1, 1, 1, 1, 0, 0, 1, 10, 0, 0, 0, 0, 0, 0, 10, 0, 0, 0, 0, 0, 0, 10, 0, 0, 0, 0, 0, 0, 10, 0, 0, 0, 0, 0, 0, 10, 0, 35]\n",
      "     action :  41\n",
      "  new_state :  [0, 0, 1, 0, 0, 0, 1, 1, 1, 1, 1, 0, 2, 0, 0, 0, 0, 10, 0, 0, 0, 0, 0, 0, 10, 0, 0, 0, 10, 0, 0, 0, 0, 10, 0, 0, 0, 0, 0, 10, 0, 0, 0, 35]\n",
      "step_reward :  30\n",
      "      state :  [1, 0, 0, 0, 1, 0, 1, 1, 0, 1, 0, 0, 1, 0, 0, 0, 10, 0, 0, 0, 0, 10, 0, 0, 0, 0, 0, 0, 0, 10, 0, 0, 0, 0, 0, 0, 10, 0, 10, 0, 0, 0, 0, 35]\n",
      "     action :  41\n",
      "  new_state :  [1, 0, 0, 0, 1, 0, 1, 1, 0, 1, 1, 0, 2, 0, 0, 0, 0, 0, 10, 0, 0, 0, 0, 0, 10, 0, 0, 10, 0, 0, 0, 0, 0, 0, 0, 10, 0, 0, 0, 0, 0, 10, 0, 35]\n",
      "step_reward :  30\n",
      "      state :  [1, 0, 1, 1, 0, 0, 0, 0, 1, 0, 0, 0, 2, 0, 0, 0, 10, 0, 0, 0, 0, 0, 10, 0, 0, 0, 0, 0, 10, 0, 0, 0, 0, 0, 10, 0, 0, 0, 0, 0, 10, 0, 0, 35]\n",
      "     action :  42\n",
      "  new_state :  [1, 0, 1, 1, 0, 0, 0, 0, 1, 0, 0, 1, 2, 0, 10, 0, 0, 0, 0, 0, 10, 0, 0, 0, 0, 10, 0, 0, 0, 0, 0, 0, 0, 0, 0, 10, 0, 0, 0, 0, 0, 10, 0, 35]\n",
      "step_reward :  50\n",
      "      state :  [1, 0, 1, 0, 1, 0, 1, 0, 0, 1, 1, 0, 2, 10, 0, 0, 0, 0, 0, 10, 0, 0, 0, 0, 0, 10, 0, 0, 0, 0, 0, 10, 0, 0, 0, 0, 0, 10, 0, 0, 0, 0, 0, 35]\n",
      "     action :  42\n",
      "  new_state :  [1, 0, 1, 0, 1, 0, 1, 0, 0, 1, 1, 1, 2, 0, 0, 10, 0, 0, 0, 10, 0, 0, 0, 0, 0, 0, 0, 0, 0, 0, 10, 0, 0, 0, 0, 10, 0, 10, 0, 0, 0, 0, 0, 35]\n",
      "step_reward :  50\n"
     ]
    },
    {
     "data": {
      "text/plain": [
       "True"
      ]
     },
     "execution_count": 1,
     "metadata": {},
     "output_type": "execute_result"
    }
   ],
   "source": [
    "import math\n",
    "import random\n",
    "import numpy as np\n",
    "import matplotlib\n",
    "import matplotlib.pyplot as plt\n",
    "from collections import namedtuple\n",
    "from itertools import count\n",
    "from PIL import Image\n",
    "import IPython as ip\n",
    "\n",
    "import torch\n",
    "import torch.nn as nn\n",
    "import torch.optim as optim\n",
    "import torch.nn.functional as F\n",
    "import torchvision.transforms as T\n",
    "import yacht_main as yacht\n",
    "from yacht_test import create_train_set\n",
    "\n",
    "device = torch.device(\"cuda\" if torch.cuda.is_available() else \"cpu\")\n",
    "#device = torch.device(\"cpu\")\n",
    "torch.cuda.is_available()"
   ]
  },
  {
   "cell_type": "code",
   "execution_count": 2,
   "metadata": {},
   "outputs": [],
   "source": [
    "Transition = namedtuple('Transition',\n",
    "                        ('state', 'action', 'next_state', 'reward'))\n",
    "\n",
    "\n",
    "class ReplayMemory(object):\n",
    "\n",
    "    def __init__(self, capacity):\n",
    "        self.capacity = capacity\n",
    "        self.memory = []\n",
    "        self.position = 0\n",
    "\n",
    "    def push(self, *args):\n",
    "        \"\"\"transition 저장\"\"\"\n",
    "        if len(self.memory) < self.capacity:\n",
    "            self.memory.append(None)\n",
    "        self.memory[self.position] = Transition(*args)\n",
    "        self.position = (self.position + 1) % self.capacity\n",
    "\n",
    "    def sample(self, batch_size):\n",
    "        return random.sample(self.memory, batch_size)\n",
    "\n",
    "    def __len__(self):\n",
    "        return len(self.memory)"
   ]
  },
  {
   "cell_type": "code",
   "execution_count": 3,
   "metadata": {},
   "outputs": [
    {
     "data": {
      "text/plain": [
       "<All keys matched successfully>"
      ]
     },
     "execution_count": 3,
     "metadata": {},
     "output_type": "execute_result"
    }
   ],
   "source": [
    "INPUT_SIZE = 44\n",
    "OUTPUT_SIZE = 43\n",
    "\n",
    "class DQN(nn.Module):\n",
    "\n",
    "    def __init__(self, input_size, output_size):\n",
    "        super(DQN, self).__init__()\n",
    "        self.fc1 = nn.Linear(input_size, 100)\n",
    "        self.fc2 = nn.Linear(100, 100)\n",
    "        self.fc3 = nn.Linear(100, 50)\n",
    "        #self.fc4 = nn.Linear(100, 100)\n",
    "        #self.fc5 = nn.Linear(100, 100)\n",
    "        self.fc6 = nn.Linear(50, output_size)\n",
    "        \n",
    "        self.LR = nn.LeakyReLU()\n",
    "        \n",
    "        \n",
    "    def forward(self, x):\n",
    "        x = torch.sigmoid(self.fc1(x))\n",
    "        x = torch.sigmoid(self.fc2(x))\n",
    "        x = torch.sigmoid(self.fc3(x))\n",
    "        #x = F.relu(self.fc4(x))\n",
    "        #x = F.relu(self.fc5(x))\n",
    "\n",
    "        x = self.fc6(x)\n",
    "\n",
    "        return x\n",
    "\n",
    "def init_weights(m):\n",
    "    if type(m) == nn.Linear:\n",
    "        torch.nn.init.constant_(m,0.1)\n",
    "\n",
    "\n",
    "policy_net = DQN(INPUT_SIZE,OUTPUT_SIZE).to(device)\n",
    "target_net = DQN(INPUT_SIZE,OUTPUT_SIZE).to(device)\n",
    "#W = torch.tensor((43,1), device = device, dtype = torch.float)\n",
    "\n",
    "init_weights(policy_net)\n",
    "target_net.load_state_dict(policy_net.state_dict())\n",
    "#init_weights(W)\n",
    "#policy_net.apply(init_weights)\n",
    "#target_net.apply(init_weights)"
   ]
  },
  {
   "cell_type": "code",
   "execution_count": 4,
   "metadata": {},
   "outputs": [],
   "source": [
    "BATCH_SIZE = 128\n",
    "MEMORY_SIZE = 3000\n",
    "GAMMA = 0.5\n",
    "EPS_START = 0.9\n",
    "EPS_END = 0.02\n",
    "EPS_DECAY = 800\n",
    "TARGET_UPDATE = 5\n",
    "ALPHA = 0.1\n",
    "REWARD_SCALE = 1.0/50\n",
    "\n",
    "target_net.load_state_dict(policy_net.state_dict())\n",
    "target_net.eval()\n",
    "\n",
    "optimizer = optim.RMSprop(policy_net.parameters())\n",
    "memory = ReplayMemory(MEMORY_SIZE)\n",
    "\n",
    "\n",
    "steps_done = 0\n",
    "\n",
    "\n",
    "def select_action(state):\n",
    "    global steps_done\n",
    "    sample = random.random()\n",
    "    eps_threshold = EPS_END + (EPS_START - EPS_END) * \\\n",
    "        math.exp(-1. * steps_done / EPS_DECAY)\n",
    "    steps_done += 1\n",
    "    if sample > eps_threshold:\n",
    "        with torch.no_grad():\n",
    "            # t.max (1)은 각 행의 가장 큰 열 값을 반환합니다.\n",
    "            # 최대 결과의 두번째 열은 최대 요소의 주소값이므로,\n",
    "            # 기대 보상이 더 큰 행동을 선택할 수 있습니다.\n",
    "            return policy_net(state).max(1)[1].view(1, 1)\n",
    "    else:\n",
    "        return torch.tensor([[random.randrange(OUTPUT_SIZE)]], device=device, dtype=torch.long)\n",
    "\n",
    "\n",
    "\n",
    "episode_scores = []\n",
    "\n",
    "\n",
    "def plot_scores():\n",
    "    plt.figure(2)\n",
    "    plt.clf()\n",
    "    scores_t = torch.tensor(episode_scores, dtype=torch.float)\n",
    "    plt.title('Training...')\n",
    "    plt.xlabel('Episode')\n",
    "    plt.ylabel('Score')\n",
    "    plt.plot(scores_t.numpy())\n",
    "    # 100개의 에피소드 평균을 가져 와서 도표 그리기\n",
    "    if len(scores_t) >= 50:\n",
    "        means = scores_t.unfold(0, 50, 1).mean(1).view(-1)\n",
    "        means = torch.cat((torch.zeros(49), means))\n",
    "        plt.plot(means.numpy())\n",
    "\n",
    "    ip.display.clear_output(wait=True)\n",
    "    plt.pause(0.001)  # 도표가 업데이트되도록 잠시 멈춤\n",
    "    #if is_ipython:\n",
    "    #display(plt.gcf())"
   ]
  },
  {
   "cell_type": "code",
   "execution_count": 5,
   "metadata": {},
   "outputs": [],
   "source": [
    "def optimize_model():\n",
    "    if len(memory) < BATCH_SIZE:\n",
    "        return\n",
    "    transitions = memory.sample(BATCH_SIZE)\n",
    "    # Transpose the batch\n",
    "    batch = Transition(*zip(*transitions))\n",
    "   \n",
    "    non_final_mask = torch.tensor(tuple(map(lambda s: s is not None,\n",
    "                      batch.next_state)), dtype=torch.bool)\n",
    "    temp = [s for s in batch.next_state if s is not None]\n",
    "    if len(temp) == 0:\n",
    "        return\n",
    " \n",
    "    \n",
    "    non_final_next_states = torch.cat(temp)\n",
    "    \"\"\"\n",
    "    non_final_mask = torch.tensor(tuple(map(lambda s: s is not None,\n",
    "                                          batch.next_state)), device=device, dtype=torch.bool)\n",
    "    non_final_next_states = torch.cat([s for s in batch.next_state\n",
    "                                                if s is not None])\n",
    "    \"\"\"\n",
    "    state_batch = torch.cat(batch.state)\n",
    "    action_batch = torch.cat(batch.action)\n",
    "    reward_batch = torch.cat(batch.reward)\n",
    "    \n",
    "    \n",
    "    \n",
    "    \"\"\"\n",
    "    state_action_values = policy_net(state_batch)\n",
    "\n",
    "    next_state_values = torch.zeros((BATCH_SIZE, OUTPUT_SIZE), device=device)\n",
    "    next_state_values[non_final_mask] = target_net(non_final_next_states)\n",
    "    # 기대 Q 값 계산\n",
    "    #expected_state_action_values = ((next_state_values * GAMMA) + reward_batch)*ALPHA + state_action_values*(1-ALPHA)\n",
    "    expected_state_action_values = (next_state_values * GAMMA) + reward_batch*REWARD_SCALE\n",
    "    # Huber 손실 계산\n",
    "    loss = F.smooth_l1_loss(state_action_values, expected_state_action_values)\n",
    "    \"\"\"\n",
    "    \n",
    "    Qpred = policy_net(state_batch).gather(1, action_batch)\n",
    "    \n",
    "\n",
    "    next_state_values = torch.zeros(BATCH_SIZE, device=device, dtype = torch.float)\n",
    "    next_state_values[non_final_mask] = torch.max(target_net(non_final_next_states), dim=1)[0]\n",
    "\n",
    "    Qs = next_state_values * GAMMA + reward_batch * REWARD_SCALE\n",
    "    \"\"\"\n",
    "    state_action_values = policy_net(state_batch).gather(1, action_batch)\n",
    "\n",
    "    # 모든 다음 상태를 위한 V(s_{t+1}) 계산\n",
    "    # non_final_next_states의 행동들에 대한 기대값은 \"이전\" target_net을 기반으로 계산됩니다.\n",
    "    # max(1)[0]으로 최고의 보상을 선택하십시오.\n",
    "    # 이것은 마스크를 기반으로 병합되어 기대 상태 값을 갖거나 상태가 최종인 경우 0을 갖습니다.\n",
    "    next_state_values = torch.ones(BATCH_SIZE, device=device) * -100\n",
    "    next_state_values[non_final_mask] = target_net(non_final_next_states).max(1)[0].detach()\n",
    "    # 기대 Q 값 계산\n",
    "    expected_state_action_values = (next_state_values * GAMMA) + reward_batch * REWARD_SCALE\n",
    "    \"\"\"\n",
    "    \"\"\"\n",
    "    Qs = torch.zeros(BATCH_SIZE, device=device, dtype = torch.float, requires_grad = True)\n",
    "    \n",
    "    for i in range(BATCH_SIZE):\n",
    "        if next_state_batch[i] is not None:\n",
    "            Qs[i] += torch.argmax(target_net(next_states[i])) * GAMMA\n",
    "    Qs += reward_batch * REWARD_SCALE\n",
    "    \"\"\"\n",
    "    loss = F.smooth_l1_loss(Qpred, Qs)\n",
    "    # 모델 최적화\n",
    "    optimizer.zero_grad()\n",
    "    loss.backward()\n",
    "    #for param in policy_net.parameters():\n",
    "    #    param.grad.data.clamp_(-1, 1)\n",
    "    optimizer.step()"
   ]
  },
  {
   "cell_type": "code",
   "execution_count": 6,
   "metadata": {},
   "outputs": [
    {
     "name": "stdout",
     "output_type": "stream",
     "text": [
      "Creating train set...\n",
      "Created 3000 train set\n"
     ]
    }
   ],
   "source": [
    "print(\"Creating train set...\")\n",
    "train_set_size = MEMORY_SIZE // 5\n",
    "train_set = create_train_set(train_set_size)\n",
    "for state, action, new_state, step_reward in train_set:\n",
    "    state_tensor = torch.tensor(state, dtype=torch.float, device=device, requires_grad = False)\n",
    "    action_tensor = torch.tensor([[action]], device=device, dtype=torch.long)\n",
    "    new_state_tensor = torch.tensor(new_state, dtype=torch.float, device=device, requires_grad = False)\n",
    "    step_reward_tensor = torch.tensor([step_reward], device=device, requires_grad = False)\n",
    "    memory.push(state_tensor.reshape(1,INPUT_SIZE), action_tensor, new_state_tensor.reshape(1,INPUT_SIZE), step_reward_tensor)\n",
    "print(\"Created\", train_set_size * 5, \"train set\")"
   ]
  },
  {
   "cell_type": "code",
   "execution_count": 7,
   "metadata": {
    "scrolled": false
   },
   "outputs": [
    {
     "data": {
      "image/png": "[encoded data removed]",
      "text/plain": [
       "<Figure size 432x288 with 1 Axes>"
      ]
     },
     "metadata": {
      "needs_background": "light"
     },
     "output_type": "display_data"
    },
    {
     "name": "stderr",
     "output_type": "stream",
     "text": [
      "c:\\users\\jasson31\\anaconda3\\envs\\cose474\\lib\\site-packages\\ipykernel_launcher.py:67: UserWarning: Using a target size (torch.Size([128])) that is different to the input size (torch.Size([128, 1])). This will likely lead to incorrect results due to broadcasting. Please ensure they have the same size.\n"
     ]
    },
    {
     "name": "stdout",
     "output_type": "stream",
     "text": [
      "Complete\n"
     ]
    }
   ],
   "source": [
    "num_episodes = 500000\n",
    "for i_episode in range(num_episodes):\n",
    "    # 환경과 상태 초기화\n",
    "    yacht.reset_game()\n",
    "    state, score, _ = yacht.get_yacht_output()\n",
    "    state = torch.tensor(state, dtype=torch.float, device=device, requires_grad = False)\n",
    "    for t in count():\n",
    "        # 행동 선택과 수행\n",
    "        action = select_action(state.reshape(1,INPUT_SIZE))\n",
    "        yacht.update(action)\n",
    "        \n",
    "        new_state, new_score, done = yacht.get_yacht_output()\n",
    "        step_reward = torch.tensor([new_score - score], device=device, requires_grad = False)\n",
    "\n",
    "        if not done:\n",
    "            new_state = torch.tensor(new_state, dtype=torch.float, device=device, requires_grad = False)\n",
    "            memory.push(state.reshape(1,INPUT_SIZE), action, new_state.reshape(1,INPUT_SIZE), \\\n",
    "                    step_reward)\n",
    "        else:\n",
    "            new_state = None\n",
    "            memory.push(state.reshape(1,INPUT_SIZE), action, None, \\\n",
    "                    step_reward)\n",
    "        \n",
    "\n",
    "        # 다음 상태로 이동\n",
    "        state = new_state\n",
    "        score = new_score\n",
    "\n",
    "        # 최적화 한단계 수행(목표 네트워크에서)\n",
    "        optimize_model()\n",
    "        if done:\n",
    "            state, score, _ = yacht.get_yacht_output()\n",
    "            episode_scores.append(score)\n",
    "            #print(\"{0}) {1}\\tscore : {2}, turns = {3}\".format(i_episode, state[:12], score, t+1))\n",
    "            \n",
    "            if i_episode % 200 == 0:\n",
    "                plot_scores()\n",
    "            \n",
    "            break\n",
    "        \n",
    "    #목표 네트워크 업데이트, 모든 웨이트와 바이어스 복사\n",
    "    if i_episode % TARGET_UPDATE == 0:\n",
    "        target_net.load_state_dict(policy_net.state_dict())\n",
    "    if i_episode % 10000 == 0:\n",
    "        torch.save(policy_net.state_dict(), './data/temp/solo_net_' + str(i_episode//10000))\n",
    "\n",
    "print('Complete')"
   ]
  },
  {
   "cell_type": "code",
   "execution_count": 8,
   "metadata": {},
   "outputs": [
    {
     "name": "stdout",
     "output_type": "stream",
     "text": [
      "[0, 0, 0, 0, 0, 0, 0, 0, 0, 0, 0, 0, 2, 0, 0, 0, 10, 0, 0, 0, 0, 0, 0, 0, 10, 0, 0, 0, 10, 0, 0, 0, 0, 10, 0, 0, 0, 0, 10, 0, 0, 0, 0, 696946]\tscore : 0, turns = 0\n",
      "\n",
      "Actions: 20\n",
      "[0, 0, 0, 0, 0, 0, 0, 0, 0, 0, 0, 0, 1, 0, 0, 0, 0, 10, 0, 0, 0, 0, 0, 0, 10, 10, 0, 0, 0, 0, 0, 0, 0, 10, 0, 0, 0, 0, 0, 0, 0, 0, 10, 696946]\tscore : 0, turns = 1\n",
      "\n",
      "Actions: 20\n",
      "[0, 0, 0, 0, 0, 0, 0, 0, 0, 0, 0, 0, 0, 10, 0, 0, 0, 0, 0, 0, 0, 0, 0, 0, 10, 0, 0, 0, 0, 10, 0, 0, 0, 10, 0, 0, 0, 0, 0, 0, 0, 10, 0, 696946]\tscore : 0, turns = 2\n",
      "\n",
      "Actions: 20\n",
      "[-1, -1, -1, -1, -1, -1, -1, -1, -1, -1, -1, -1, 0, 10, 0, 0, 0, 0, 0, 0, 0, 0, 0, 0, 10, 0, 0, 0, 0, 10, 0, 0, 0, 10, 0, 0, 0, 0, 0, 0, 0, 10, 0, 696946]\tscore : 0, turns = 3\n"
     ]
    }
   ],
   "source": [
    "def step_by_step():\n",
    "    yacht.reset_game()\n",
    "    \n",
    "    state, _, _ = yacht.get_yacht_output()\n",
    "    print(\"{0}\\tscore : {1}, turns = {2}\".format(state, 0, 0))\n",
    "    state = torch.tensor(state, dtype=torch.float, device=device, requires_grad = False)\n",
    "    \n",
    "    for t in count():\n",
    "#        policy_net(state).max(1)[1].view(1, 1)\n",
    "        action = select_action(state.reshape(1,INPUT_SIZE))\n",
    "        print(\"\\nActions: {0}\".format(action[0][0] ))\n",
    "        yacht.update(action)\n",
    "        \n",
    "        state, score, done = yacht.get_yacht_output()\n",
    "        print(\"{0}\\tscore : {1}, turns = {2}\".format(state, score, t+1))\n",
    "        state = torch.tensor(state, dtype=torch.float, device=device, requires_grad = False)\n",
    "        \n",
    "        if done:\n",
    "            break\n",
    "step_by_step()"
   ]
  },
  {
   "cell_type": "code",
   "execution_count": 9,
   "metadata": {},
   "outputs": [],
   "source": [
    "def print_memory(mem):\n",
    "    print(\"\\n\\nState: {0}\".format(mem.state[0].int().tolist() ))\n",
    "    print(\"Action: {0}\".format(action[0][0] ))\n",
    "    if mem.next_state == None:\n",
    "        print(\"State: None\")\n",
    "    else:\n",
    "        print(\"State: {0}\".format(mem.next_state[0].int().tolist() ))\n",
    "    print(\"Reward: {0}\".format(mem.reward[0][0].int() ))\n",
    "    "
   ]
  },
  {
   "cell_type": "code",
   "execution_count": 10,
   "metadata": {},
   "outputs": [
    {
     "name": "stdout",
     "output_type": "stream",
     "text": [
      "\n",
      "\n",
      "State: [0, 0, 0, 0, 0, 0, 1, 0, 0, 0, 0, 0, 1, 0, 10, 0, 0, 0, 0, 0, 0, 0, 0, 10, 0, 0, 0, 0, 10, 0, 0, 0, 0, 0, 10, 0, 0, 0, 0, 0, 0, 0, 10, 696015]\n",
      "Action: 20\n",
      "State: [0, 0, 1, 0, 0, 0, 1, 0, 0, 0, 0, 0, 2, 0, 0, 0, 0, 10, 0, 10, 0, 0, 0, 0, 0, 0, 10, 0, 0, 0, 0, 0, 0, 0, 0, 0, 10, 10, 0, 0, 0, 0, 0, 696015]\n"
     ]
    },
    {
     "ename": "IndexError",
     "evalue": "invalid index of a 0-dim tensor. Use `tensor.item()` in Python or `tensor.item<T>()` in C++ to convert a 0-dim tensor to a number",
     "output_type": "error",
     "traceback": [
      "\u001b[1;31m---------------------------------------------------------------------------\u001b[0m",
      "\u001b[1;31mIndexError\u001b[0m                                Traceback (most recent call last)",
      "\u001b[1;32m<ipython-input-10-87aaaf5d7923>\u001b[0m in \u001b[0;36m<module>\u001b[1;34m()\u001b[0m\n\u001b[0;32m      1\u001b[0m \u001b[1;32mfor\u001b[0m \u001b[0mi\u001b[0m \u001b[1;32min\u001b[0m \u001b[0mrange\u001b[0m\u001b[1;33m(\u001b[0m\u001b[1;36m10\u001b[0m\u001b[1;33m)\u001b[0m\u001b[1;33m:\u001b[0m\u001b[1;33m\u001b[0m\u001b[1;33m\u001b[0m\u001b[0m\n\u001b[1;32m----> 2\u001b[1;33m     \u001b[0mprint_memory\u001b[0m\u001b[1;33m(\u001b[0m\u001b[0mmemory\u001b[0m\u001b[1;33m.\u001b[0m\u001b[0mmemory\u001b[0m\u001b[1;33m[\u001b[0m\u001b[0mi\u001b[0m\u001b[1;33m]\u001b[0m\u001b[1;33m)\u001b[0m\u001b[1;33m\u001b[0m\u001b[1;33m\u001b[0m\u001b[0m\n\u001b[0m",
      "\u001b[1;32m<ipython-input-9-019f23c2e57c>\u001b[0m in \u001b[0;36mprint_memory\u001b[1;34m(mem)\u001b[0m\n\u001b[0;32m      6\u001b[0m     \u001b[1;32melse\u001b[0m\u001b[1;33m:\u001b[0m\u001b[1;33m\u001b[0m\u001b[1;33m\u001b[0m\u001b[0m\n\u001b[0;32m      7\u001b[0m         \u001b[0mprint\u001b[0m\u001b[1;33m(\u001b[0m\u001b[1;34m\"State: {0}\"\u001b[0m\u001b[1;33m.\u001b[0m\u001b[0mformat\u001b[0m\u001b[1;33m(\u001b[0m\u001b[0mmem\u001b[0m\u001b[1;33m.\u001b[0m\u001b[0mnext_state\u001b[0m\u001b[1;33m[\u001b[0m\u001b[1;36m0\u001b[0m\u001b[1;33m]\u001b[0m\u001b[1;33m.\u001b[0m\u001b[0mint\u001b[0m\u001b[1;33m(\u001b[0m\u001b[1;33m)\u001b[0m\u001b[1;33m.\u001b[0m\u001b[0mtolist\u001b[0m\u001b[1;33m(\u001b[0m\u001b[1;33m)\u001b[0m \u001b[1;33m)\u001b[0m\u001b[1;33m)\u001b[0m\u001b[1;33m\u001b[0m\u001b[1;33m\u001b[0m\u001b[0m\n\u001b[1;32m----> 8\u001b[1;33m     \u001b[0mprint\u001b[0m\u001b[1;33m(\u001b[0m\u001b[1;34m\"Reward: {0}\"\u001b[0m\u001b[1;33m.\u001b[0m\u001b[0mformat\u001b[0m\u001b[1;33m(\u001b[0m\u001b[0mmem\u001b[0m\u001b[1;33m.\u001b[0m\u001b[0mreward\u001b[0m\u001b[1;33m[\u001b[0m\u001b[1;36m0\u001b[0m\u001b[1;33m]\u001b[0m\u001b[1;33m[\u001b[0m\u001b[1;36m0\u001b[0m\u001b[1;33m]\u001b[0m\u001b[1;33m.\u001b[0m\u001b[0mint\u001b[0m\u001b[1;33m(\u001b[0m\u001b[1;33m)\u001b[0m \u001b[1;33m)\u001b[0m\u001b[1;33m)\u001b[0m\u001b[1;33m\u001b[0m\u001b[1;33m\u001b[0m\u001b[0m\n\u001b[0m\u001b[0;32m      9\u001b[0m \u001b[1;33m\u001b[0m\u001b[0m\n",
      "\u001b[1;31mIndexError\u001b[0m: invalid index of a 0-dim tensor. Use `tensor.item()` in Python or `tensor.item<T>()` in C++ to convert a 0-dim tensor to a number"
     ]
    }
   ],
   "source": [
    "for i in range(10):\n",
    "    print_memory(memory.memory[i])"
   ]
  },
  {
   "cell_type": "code",
   "execution_count": null,
   "metadata": {},
   "outputs": [],
   "source": [
    "[[-1]*12]*2"
   ]
  },
  {
   "cell_type": "code",
   "execution_count": null,
   "metadata": {},
   "outputs": [],
   "source": [
    "test_net = DQN(INPUT_SIZE, OUTPUT_SIZE)\n",
    "test_net.load_state_dict(torch.load('./data/solo_net_1'))\n",
    "test_net.eval()"
   ]
  },
  {
   "cell_type": "code",
   "execution_count": null,
   "metadata": {},
   "outputs": [],
   "source": [
    "yacht.reset_game()"
   ]
  },
  {
   "cell_type": "code",
   "execution_count": null,
   "metadata": {},
   "outputs": [],
   "source": [
    "state,_,_ = yacht.get_yacht_output()\n",
    "print(state)\n",
    "action = test_net(torch.tensor(state, dtype=torch.float).reshape(1,INPUT_SIZE)).max(1)[1]\n",
    "reward = yacht.update(action)\n",
    "print(action-30)\n",
    "state,_,_ = yacht.get_yacht_output()\n",
    "print(state)\n",
    "print(reward)"
   ]
  },
  {
   "cell_type": "code",
   "execution_count": null,
   "metadata": {},
   "outputs": [],
   "source": [
    "device"
   ]
  },
  {
   "cell_type": "code",
   "execution_count": null,
   "metadata": {},
   "outputs": [],
   "source": [
    "torch.ones(BATCH_SIZE, device=device) * -100"
   ]
  },
  {
   "cell_type": "code",
   "execution_count": null,
   "metadata": {},
   "outputs": [],
   "source": []
  }
 ],
 "metadata": {
  "kernelspec": {
   "display_name": "Python 3",
   "language": "python",
   "name": "python3"
  },
  "language_info": {
   "codemirror_mode": {
    "name": "ipython",
    "version": 3
   },
   "file_extension": ".py",
   "mimetype": "text/x-python",
   "name": "python",
   "nbconvert_exporter": "python",
   "pygments_lexer": "ipython3",
   "version": "3.6.12"
  }
 },
 "nbformat": 4,
 "nbformat_minor": 4
}
