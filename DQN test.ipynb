{
 "cells": [
  {
   "cell_type": "code",
   "execution_count": 1,
   "metadata": {
    "scrolled": false
   },
   "outputs": [
    {
     "data": {
      "text/plain": [
       "True"
      ]
     },
     "execution_count": 1,
     "metadata": {},
     "output_type": "execute_result"
    }
   ],
   "source": [
    "import math\n",
    "import random\n",
    "import numpy as np\n",
    "import matplotlib\n",
    "import matplotlib.pyplot as plt\n",
    "from collections import namedtuple\n",
    "from itertools import count\n",
    "from PIL import Image\n",
    "from random import randint\n",
    "import IPython as ip\n",
    "\n",
    "import torch\n",
    "import torch.nn as nn\n",
    "import torch.optim as optim\n",
    "import torch.nn.functional as F\n",
    "import torchvision.transforms as T\n",
    "import yacht_main as yacht\n",
    "from yacht_test import create_train_set\n",
    "\n",
    "device = torch.device(\"cuda\" if torch.cuda.is_available() else \"cpu\")\n",
    "#device = torch.device(\"cpu\")\n",
    "torch.cuda.is_available()"
   ]
  },
  {
   "cell_type": "code",
   "execution_count": 2,
   "metadata": {},
   "outputs": [],
   "source": [
    "Transition = namedtuple('Transition',\n",
    "                        ('state', 'action', 'next_state', 'reward'))\n",
    "\n",
    "\n",
    "class ReplayMemory(object):\n",
    "\n",
    "    def __init__(self, capacity):\n",
    "        self.capacity = capacity\n",
    "        self.memory = []\n",
    "        self.position = 0\n",
    "\n",
    "    def push(self, *args):\n",
    "        \"\"\"transition 저장\"\"\"\n",
    "        if len(self.memory) < self.capacity:\n",
    "            self.memory.append(None)\n",
    "        self.memory[self.position] = Transition(*args)\n",
    "        self.position = (self.position + 1) % self.capacity\n",
    "\n",
    "    def sample(self, batch_size):\n",
    "        return random.sample(self.memory, batch_size)\n",
    "\n",
    "    def __len__(self):\n",
    "        return len(self.memory)"
   ]
  },
  {
   "cell_type": "code",
   "execution_count": 3,
   "metadata": {},
   "outputs": [
    {
     "data": {
      "text/plain": [
       "<All keys matched successfully>"
      ]
     },
     "execution_count": 3,
     "metadata": {},
     "output_type": "execute_result"
    }
   ],
   "source": [
    "INPUT_SIZE = 20\n",
    "OUTPUT_SIZE = 43\n",
    "\n",
    "class DQN(nn.Module):\n",
    "\n",
    "    def __init__(self, input_size, output_size):\n",
    "        super(DQN, self).__init__()\n",
    "        self.fc1 = nn.Linear(input_size, 300)\n",
    "        self.fc2 = nn.Linear(300, 300)\n",
    "        self.fc3 = nn.Linear(300, 50)\n",
    "        #self.fc4 = nn.Linear(100, 100)\n",
    "        #self.fc5 = nn.Linear(100, 100)\n",
    "        self.fc6 = nn.Linear(50, output_size)\n",
    "        \n",
    "        \n",
    "    def forward(self, x):\n",
    "        x = torch.sigmoid(self.fc1(x))\n",
    "        x = torch.sigmoid(self.fc2(x))\n",
    "        x = torch.sigmoid(self.fc3(x))\n",
    "        #x = F.relu(self.fc4(x))\n",
    "        #x = F.relu(self.fc5(x))\n",
    "\n",
    "        x = self.fc6(x)\n",
    "\n",
    "        return x\n",
    "\n",
    "def init_weights(m):\n",
    "    if type(m) == nn.Linear:\n",
    "        torch.nn.init.constant_(m,0.1)\n",
    "\n",
    "\n",
    "policy_net = DQN(INPUT_SIZE,OUTPUT_SIZE).to(device)\n",
    "target_net = DQN(INPUT_SIZE,OUTPUT_SIZE).to(device)\n",
    "#W = torch.tensor((43,1), device = device, dtype = torch.float)\n",
    "\n",
    "init_weights(policy_net)\n",
    "target_net.load_state_dict(policy_net.state_dict())\n",
    "#init_weights(W)\n",
    "#policy_net.apply(init_weights)\n",
    "#target_net.apply(init_weights)"
   ]
  },
  {
   "cell_type": "code",
   "execution_count": 4,
   "metadata": {},
   "outputs": [],
   "source": [
    "BATCH_SIZE = 128\n",
    "MEMORY_SIZE = 10000\n",
    "GAMMA = 0.01\n",
    "EPS_START = 0.9\n",
    "EPS_END = 0.05\n",
    "EPS_DECAY = 500\n",
    "TARGET_UPDATE = 5\n",
    "ALPHA = 0.1\n",
    "REWARD_SCALE = 1.0/50\n",
    "TRAINSET_PERIOD = 1000\n",
    "\n",
    "target_net.load_state_dict(policy_net.state_dict())\n",
    "target_net.eval()\n",
    "\n",
    "#optimizer = optim.RMSprop(policy_net.parameters())\n",
    "optimizer = optim.Adam(policy_net.parameters())\n",
    "memory = ReplayMemory(MEMORY_SIZE)\n",
    "\n",
    "\n",
    "steps_done = 0\n",
    "\n",
    "\n",
    "def select_action(state, avail, training = True):\n",
    "    global steps_done\n",
    "    sample = random.random()\n",
    "    eps_threshold = EPS_END + (EPS_START - EPS_END) * \\\n",
    "        math.exp(-1. * steps_done / EPS_DECAY)\n",
    "    steps_done += 1\n",
    "    if training and sample <= eps_threshold:\n",
    "        random_action = 0\n",
    "        randomizer = randint(1, avail.sum())\n",
    "        avail_list = torch.reshape(avail,[-1]).tolist()\n",
    "        for i in range(len(avail_list)):\n",
    "            if avail_list[i] == 1:\n",
    "                if randomizer == 1:\n",
    "                    random_action = i\n",
    "                    break\n",
    "                randomizer -= 1\n",
    "        return torch.tensor([[random_action]], device=device, dtype=torch.long)\n",
    "    else:\n",
    "        with torch.no_grad():\n",
    "            # t.max (1)은 각 행의 가장 큰 열 값을 반환합니다.\n",
    "            # 최대 결과의 두번째 열은 최대 요소의 주소값이므로,\n",
    "            # 기대 보상이 더 큰 행동을 선택할 수 있습니다.\n",
    "            \n",
    "            \n",
    "            return policy_net(state).max(1)[1].view(1, 1)\n",
    "\n",
    "\n",
    "\n",
    "episode_scores = []\n",
    "\n",
    "\n",
    "def plot_scores():\n",
    "    plt.figure(2)\n",
    "    plt.clf()\n",
    "    scores_t = torch.tensor(episode_scores, dtype=torch.float)\n",
    "    plt.title('Training...')\n",
    "    plt.xlabel('Episode')\n",
    "    plt.ylabel('Score')\n",
    "    plt.plot(scores_t.numpy())\n",
    "    # 100개의 에피소드 평균을 가져 와서 도표 그리기\n",
    "    if len(scores_t) >= 50:\n",
    "        means = scores_t.unfold(0, 50, 1).mean(1).view(-1)\n",
    "        means = torch.cat((torch.zeros(49), means))\n",
    "        plt.plot(means.numpy())\n",
    "\n",
    "    ip.display.clear_output(wait=True)\n",
    "    plt.pause(0.001)  # 도표가 업데이트되도록 잠시 멈춤\n",
    "    #if is_ipython:\n",
    "    #display(plt.gcf())"
   ]
  },
  {
   "cell_type": "code",
   "execution_count": 5,
   "metadata": {},
   "outputs": [],
   "source": [
    "def optimize_model():\n",
    "    if len(memory) < BATCH_SIZE:\n",
    "        return\n",
    "    transitions = memory.sample(BATCH_SIZE)\n",
    "    batch = Transition(*zip(*transitions))\n",
    "    \n",
    "    non_final_mask = torch.tensor(tuple(map(lambda s: s is not None,\n",
    "                                          batch.next_state)), device=device, dtype=torch.bool)\n",
    "    non_final_next_states = torch.cat([s for s in batch.next_state\n",
    "                                                if s is not None])\n",
    "    state_batch = torch.cat(batch.state)\n",
    "    action_batch = torch.cat(batch.action)\n",
    "    reward_batch = torch.cat(batch.reward)\n",
    "    \n",
    "    state_action_values = policy_net(state_batch).gather(1, action_batch)\n",
    "    \n",
    "    next_state_values = torch.zeros(BATCH_SIZE, device=device)\n",
    "    next_state_values[non_final_mask] = target_net(non_final_next_states).max(1)[0].detach()\n",
    "    expected_state_action_values = (next_state_values * GAMMA) + reward_batch\n",
    "    loss = F.smooth_l1_loss(state_action_values, expected_state_action_values.unsqueeze(1))\n",
    "\n",
    "    optimizer.zero_grad()\n",
    "    loss.backward()\n",
    "    for param in policy_net.parameters():\n",
    "        param.grad.data.clamp_(-1, 1)\n",
    "    optimizer.step()"
   ]
  },
  {
   "cell_type": "code",
   "execution_count": 6,
   "metadata": {},
   "outputs": [],
   "source": [
    "def add_trainset():\n",
    "    print(\"Creating train set...\")\n",
    "    train_set_size = 3000 // 6\n",
    "    train_set = create_train_set(train_set_size)\n",
    "    for state, action, new_state, step_reward in train_set:\n",
    "        state_tensor = torch.tensor(state, dtype=torch.float, device=device, requires_grad = False)\n",
    "        action_tensor = torch.tensor([[action]], device=device, dtype=torch.long)\n",
    "        new_state_tensor = torch.tensor(new_state, dtype=torch.float, device=device, requires_grad = False)\n",
    "        step_reward_tensor = torch.tensor([step_reward], device=device, requires_grad = False)\n",
    "        memory.push(state_tensor.reshape(1,INPUT_SIZE), action_tensor, new_state_tensor.reshape(1,INPUT_SIZE), step_reward_tensor)\n",
    "    print(\"Created\", train_set_size * 6, \"train set\")"
   ]
  },
  {
   "cell_type": "code",
   "execution_count": 7,
   "metadata": {
    "scrolled": false
   },
   "outputs": [
    {
     "data": {
      "image/png": "[encoded data removed]",
      "text/plain": [
       "<Figure size 432x288 with 1 Axes>"
      ]
     },
     "metadata": {
      "needs_background": "light"
     },
     "output_type": "display_data"
    },
    {
     "name": "stdout",
     "output_type": "stream",
     "text": [
      "Complete\n"
     ]
    }
   ],
   "source": [
    "num_episodes = 500000\n",
    "for i_episode in range(num_episodes):\n",
    "    # 환경과 상태 초기화\n",
    "    yacht.reset_game()\n",
    "    state, score, _, avail = yacht.get_yacht_output()\n",
    "    state = torch.tensor(state, dtype=torch.float, device=device, requires_grad = False)\n",
    "    for t in count():\n",
    "        # 행동 선택과 수행\n",
    "        action = select_action(state.reshape(1,INPUT_SIZE), \\\n",
    "                               torch.tensor(avail, dtype=torch.float, device=device, requires_grad = False).reshape(1, OUTPUT_SIZE))\n",
    "        yacht.update(action)\n",
    "        \n",
    "        new_state, new_score, done, avail = yacht.get_yacht_output()\n",
    "        step_reward = torch.tensor([new_score - score], device=device, requires_grad = False)\n",
    "        if action < 31:\n",
    "            step_reward = torch.tensor([1], device=device, requires_grad = False)\n",
    "\n",
    "        if not done:\n",
    "            new_state = torch.tensor(new_state, dtype=torch.float, device=device, requires_grad = False)\n",
    "            memory.push(state.reshape(1,INPUT_SIZE), action, new_state.reshape(1,INPUT_SIZE), \\\n",
    "                    step_reward)\n",
    "        else:\n",
    "            new_state = None\n",
    "            memory.push(state.reshape(1,INPUT_SIZE), action, None, \\\n",
    "                    step_reward)\n",
    "        \n",
    "\n",
    "        # 다음 상태로 이동\n",
    "        state = new_state\n",
    "        score = new_score\n",
    "        \n",
    "\n",
    "        # 최적화 한단계 수행(목표 네트워크에서)\n",
    "        optimize_model()\n",
    "        if done:\n",
    "            state, score, _, _ = yacht.get_yacht_output()\n",
    "            episode_scores.append(score)\n",
    "            #print(\"{0}) {1}\\tscore : {2}, turns = {3}\".format(i_episode, state[:12], score, t+1))\n",
    "            \n",
    "            if i_episode % 200 == 0:\n",
    "                plot_scores()\n",
    "            \n",
    "            break\n",
    "        \n",
    "    #목표 네트워크 업데이트, 모든 웨이트와 바이어스 복사\n",
    "    if i_episode % TRAINSET_PERIOD == 0:\n",
    "        add_trainset()\n",
    "    if i_episode % TARGET_UPDATE == 0:\n",
    "        target_net.load_state_dict(policy_net.state_dict())\n",
    "    if i_episode % 10000 == 0:\n",
    "        torch.save(policy_net.state_dict(), './data/solo_net_' + str(i_episode//10000))\n",
    "\n",
    "print('Complete')"
   ]
  },
  {
   "cell_type": "code",
   "execution_count": 8,
   "metadata": {
    "scrolled": false
   },
   "outputs": [
    {
     "name": "stdout",
     "output_type": "stream",
     "text": [
      "[1, 2, 0, 0, 10, 6, 19, 0, 0, 0, 0, 0, 2, 6, 1, 5, 5, 2, 0, 0]\tscore : 0, turns = 0\n",
      "\n",
      "Actions: 37\n",
      "\n",
      "Avails: \n",
      " tensor([1., 1., 1., 1., 1., 1., 1., 1., 1., 1., 1., 1., 1., 1., 1., 1., 1., 1.,\n",
      "        1., 1., 1., 1., 1., 1., 1., 1., 1., 1., 1., 1., 1., 1., 1., 1., 1., 1.,\n",
      "        1., 1., 1., 1., 1., 1., 1.], device='cuda:0')\n"
     ]
    },
    {
     "ename": "AttributeError",
     "evalue": "module 'yacht_main' has no attribute 'get_yacht_output_test'",
     "output_type": "error",
     "traceback": [
      "\u001b[1;31m---------------------------------------------------------------------------\u001b[0m",
      "\u001b[1;31mAttributeError\u001b[0m                            Traceback (most recent call last)",
      "\u001b[1;32m<ipython-input-8-2ca6428b3ae8>\u001b[0m in \u001b[0;36m<module>\u001b[1;34m()\u001b[0m\n\u001b[0;32m     22\u001b[0m         \u001b[1;32mif\u001b[0m \u001b[0mdone\u001b[0m\u001b[1;33m:\u001b[0m\u001b[1;33m\u001b[0m\u001b[1;33m\u001b[0m\u001b[0m\n\u001b[0;32m     23\u001b[0m             \u001b[1;32mbreak\u001b[0m\u001b[1;33m\u001b[0m\u001b[1;33m\u001b[0m\u001b[0m\n\u001b[1;32m---> 24\u001b[1;33m \u001b[0mstep_by_step\u001b[0m\u001b[1;33m(\u001b[0m\u001b[1;33m)\u001b[0m\u001b[1;33m\u001b[0m\u001b[1;33m\u001b[0m\u001b[0m\n\u001b[0m",
      "\u001b[1;32m<ipython-input-8-2ca6428b3ae8>\u001b[0m in \u001b[0;36mstep_by_step\u001b[1;34m()\u001b[0m\n\u001b[0;32m     15\u001b[0m \u001b[1;33m\u001b[0m\u001b[0m\n\u001b[0;32m     16\u001b[0m         \u001b[0mstate\u001b[0m\u001b[1;33m,\u001b[0m \u001b[0mscore\u001b[0m\u001b[1;33m,\u001b[0m \u001b[0mdone\u001b[0m\u001b[1;33m,\u001b[0m \u001b[0mavail\u001b[0m \u001b[1;33m=\u001b[0m \u001b[0myacht\u001b[0m\u001b[1;33m.\u001b[0m\u001b[0mget_yacht_output\u001b[0m\u001b[1;33m(\u001b[0m\u001b[1;33m)\u001b[0m\u001b[1;33m\u001b[0m\u001b[1;33m\u001b[0m\u001b[0m\n\u001b[1;32m---> 17\u001b[1;33m         \u001b[0mstate1\u001b[0m\u001b[1;33m,\u001b[0m \u001b[0mscore1\u001b[0m\u001b[1;33m,\u001b[0m \u001b[0mdone1\u001b[0m\u001b[1;33m,\u001b[0m \u001b[0mavail1\u001b[0m \u001b[1;33m=\u001b[0m \u001b[0myacht\u001b[0m\u001b[1;33m.\u001b[0m\u001b[0mget_yacht_output_test\u001b[0m\u001b[1;33m(\u001b[0m\u001b[1;33m)\u001b[0m\u001b[1;33m\u001b[0m\u001b[1;33m\u001b[0m\u001b[0m\n\u001b[0m\u001b[0;32m     18\u001b[0m         \u001b[0mprint\u001b[0m\u001b[1;33m(\u001b[0m\u001b[1;34m\"{0}\\tscore : {1}, turns = {2}\"\u001b[0m\u001b[1;33m.\u001b[0m\u001b[0mformat\u001b[0m\u001b[1;33m(\u001b[0m\u001b[0mstate1\u001b[0m\u001b[1;33m,\u001b[0m \u001b[0mscore1\u001b[0m\u001b[1;33m,\u001b[0m \u001b[0mt\u001b[0m\u001b[1;33m+\u001b[0m\u001b[1;36m1\u001b[0m\u001b[1;33m)\u001b[0m\u001b[1;33m)\u001b[0m\u001b[1;33m\u001b[0m\u001b[1;33m\u001b[0m\u001b[0m\n\u001b[0;32m     19\u001b[0m         \u001b[0mstate\u001b[0m \u001b[1;33m=\u001b[0m \u001b[0mtorch\u001b[0m\u001b[1;33m.\u001b[0m\u001b[0mtensor\u001b[0m\u001b[1;33m(\u001b[0m\u001b[0mstate\u001b[0m\u001b[1;33m,\u001b[0m \u001b[0mdtype\u001b[0m\u001b[1;33m=\u001b[0m\u001b[0mtorch\u001b[0m\u001b[1;33m.\u001b[0m\u001b[0mfloat\u001b[0m\u001b[1;33m,\u001b[0m \u001b[0mdevice\u001b[0m\u001b[1;33m=\u001b[0m\u001b[0mdevice\u001b[0m\u001b[1;33m,\u001b[0m \u001b[0mrequires_grad\u001b[0m \u001b[1;33m=\u001b[0m \u001b[1;32mFalse\u001b[0m\u001b[1;33m)\u001b[0m\u001b[1;33m\u001b[0m\u001b[1;33m\u001b[0m\u001b[0m\n",
      "\u001b[1;31mAttributeError\u001b[0m: module 'yacht_main' has no attribute 'get_yacht_output_test'"
     ]
    }
   ],
   "source": [
    "def step_by_step():\n",
    "    yacht.reset_game()\n",
    "    \n",
    "    state, _, _, avail = yacht.get_yacht_output()\n",
    "    print(\"{0}\\tscore : {1}, turns = {2}\".format(state, 0, 0))\n",
    "    state = torch.tensor(state, dtype=torch.float, device=device, requires_grad = False)\n",
    "    avail = torch.tensor(avail, dtype=torch.float, device=device, requires_grad = False)\n",
    "    \n",
    "    for t in count():\n",
    "#        policy_net(state).max(1)[1].view(1, 1)\n",
    "        action = select_action(state.reshape(1,INPUT_SIZE), avail, False)\n",
    "        print(\"\\nActions: {0}\".format(action[0][0] ))\n",
    "        print(\"\\nAvails: \\n\", avail)\n",
    "        yacht.update(action)\n",
    "        \n",
    "        state, score, done, avail = yacht.get_yacht_output()\n",
    "        state1, score1, done1, avail1 = yacht.get_yacht_output_test()\n",
    "        print(\"{0}\\tscore : {1}, turns = {2}\".format(state1, score1, t+1))\n",
    "        state = torch.tensor(state, dtype=torch.float, device=device, requires_grad = False)\n",
    "        avail = torch.tensor(avail, dtype=torch.float, device=device, requires_grad = False)\n",
    "        \n",
    "        if done:\n",
    "            break\n",
    "step_by_step()"
   ]
  },
  {
   "cell_type": "code",
   "execution_count": null,
   "metadata": {},
   "outputs": [],
   "source": [
    "def print_memory(mem):\n",
    "    print(\"\\n\\nState: {0}\".format(mem.state[0].int().tolist() ))\n",
    "    print(\"Action: {0}\".format(action[0][0] ))\n",
    "    if mem.next_state == None:\n",
    "        print(\"State: None\")\n",
    "    else:\n",
    "        print(\"State: {0}\".format(mem.next_state[0].int().tolist() ))\n",
    "    print(\"Reward: {0}\".format(mem.reward[0][0].int() ))\n",
    "    "
   ]
  },
  {
   "cell_type": "code",
   "execution_count": null,
   "metadata": {},
   "outputs": [],
   "source": [
    "for i in range(10):\n",
    "    print_memory(memory.memory[i])"
   ]
  },
  {
   "cell_type": "code",
   "execution_count": null,
   "metadata": {},
   "outputs": [],
   "source": [
    "[[-1]*12]*2"
   ]
  },
  {
   "cell_type": "code",
   "execution_count": null,
   "metadata": {},
   "outputs": [],
   "source": [
    "test_net = DQN(INPUT_SIZE, OUTPUT_SIZE)\n",
    "test_net.load_state_dict(torch.load('./data/solo_net_2'))\n",
    "test_net.eval()"
   ]
  },
  {
   "cell_type": "code",
   "execution_count": null,
   "metadata": {},
   "outputs": [],
   "source": [
    "yacht.reset_game()"
   ]
  },
  {
   "cell_type": "code",
   "execution_count": null,
   "metadata": {},
   "outputs": [],
   "source": [
    "state,reward,_,avail = yacht.get_yacht_output()\n",
    "print(state)\n",
    "midaction = test_net(torch.tensor(state, dtype=torch.float).reshape(1,INPUT_SIZE))\n",
    "print(midaction)\n",
    "print(avail)\n",
    "action = (midaction * torch.tensor(avail, dtype=torch.float).reshape(1,OUTPUT_SIZE)).max(1)[1]\n",
    "yacht.update(action)\n",
    "print(action-30)\n",
    "state,reward,_, _ = yacht.get_yacht_output()\n",
    "print(state)"
   ]
  },
  {
   "cell_type": "code",
   "execution_count": null,
   "metadata": {},
   "outputs": [],
   "source": [
    "device"
   ]
  },
  {
   "cell_type": "code",
   "execution_count": null,
   "metadata": {},
   "outputs": [],
   "source": [
    "torch.ones(BATCH_SIZE, device=device) * -100"
   ]
  },
  {
   "cell_type": "code",
   "execution_count": null,
   "metadata": {},
   "outputs": [],
   "source": []
  }
 ],
 "metadata": {
  "kernelspec": {
   "display_name": "Python 3",
   "language": "python",
   "name": "python3"
  },
  "language_info": {
   "codemirror_mode": {
    "name": "ipython",
    "version": 3
   },
   "file_extension": ".py",
   "mimetype": "text/x-python",
   "name": "python",
   "nbconvert_exporter": "python",
   "pygments_lexer": "ipython3",
   "version": "3.6.12"
  }
 },
 "nbformat": 4,
 "nbformat_minor": 4
}
